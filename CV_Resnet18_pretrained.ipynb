{
  "nbformat": 4,
  "nbformat_minor": 0,
  "metadata": {
    "colab": {
      "name": "CV_Resnet18_pretrained.ipynb",
      "provenance": [],
      "collapsed_sections": [],
      "mount_file_id": "1QWfDDCUBn5xrzeZl9MSlSCXWiD27O4FX",
      "authorship_tag": "ABX9TyPih1ZjppU4Iigek53FU7el",
      "include_colab_link": true
    },
    "kernelspec": {
      "name": "python3",
      "display_name": "Python 3"
    },
    "accelerator": "GPU"
  },
  "cells": [
    {
      "cell_type": "markdown",
      "metadata": {
        "id": "view-in-github",
        "colab_type": "text"
      },
      "source": [
        "<a href=\"https://colab.research.google.com/github/xyzkpsf/CS-W182-CV-Project/blob/main/CV_Resnet18_pretrained.ipynb\" target=\"_parent\"><img src=\"https://colab.research.google.com/assets/colab-badge.svg\" alt=\"Open In Colab\"/></a>"
      ]
    },
    {
      "cell_type": "code",
      "metadata": {
        "id": "OCclD7VsWI2V"
      },
      "source": [
        "import torch\r\n",
        "import torch.nn as nn\r\n",
        "import torch.optim as optim\r\n",
        "import torch.nn.functional as F\r\n",
        "import numpy as np\r\n",
        "import torchvision\r\n",
        "from torchvision import datasets, models, transforms\r\n",
        "from torch.utils.data import Dataset, DataLoader\r\n",
        "from torch.optim import lr_scheduler\r\n",
        "import matplotlib.pyplot as plt\r\n",
        "from livelossplot import PlotLosses\r\n",
        "import time\r\n",
        "import copy\r\n",
        "import os\r\n",
        "import sys"
      ],
      "execution_count": 11,
      "outputs": []
    },
    {
      "cell_type": "code",
      "metadata": {
        "id": "rl9m1j-2gfxs"
      },
      "source": [
        "\r\n",
        "try:\r\n",
        "    import torchbearer\r\n",
        "except:\r\n",
        "    !pip install -q torchbearer\r\n",
        "    import torchbearer\r\n",
        "\r\n",
        "!pip install livelossplot\r\n",
        "print(torchbearer.__version__)"
      ],
      "execution_count": null,
      "outputs": []
    },
    {
      "cell_type": "code",
      "metadata": {
        "id": "1yl6_bxcgjrk"
      },
      "source": [
        "from livelossplot import PlotLosses"
      ],
      "execution_count": null,
      "outputs": []
    },
    {
      "cell_type": "code",
      "metadata": {
        "id": "VUwrIYPDWTKU"
      },
      "source": [
        "!unzip '/content/drive/MyDrive/Spring 2021/CS 182/tiny-imagenet-200.zip'"
      ],
      "execution_count": null,
      "outputs": []
    },
    {
      "cell_type": "code",
      "metadata": {
        "id": "f_-OrGSoWXHB"
      },
      "source": [
        "data_transforms = {\r\n",
        "    'train': transforms.Compose([\r\n",
        "        transforms.Resize(224),\r\n",
        "        transforms.ToTensor(),\r\n",
        "        transforms.Normalize([0.485, 0.456, 0.406], [0.229, 0.224, 0.225])\r\n",
        "    ]),\r\n",
        "    'val': transforms.Compose([\r\n",
        "        transforms.Resize(224),\r\n",
        "        transforms.ToTensor(),\r\n",
        "        transforms.Normalize([0.485, 0.456, 0.406], [0.229, 0.224, 0.225])\r\n",
        "    ]),\r\n",
        "}\r\n",
        "\r\n",
        "data_dir = '/content/tiny-imagenet-200'\r\n",
        "image_datasets = {x: datasets.ImageFolder(os.path.join(data_dir, x),\r\n",
        "                                          data_transforms[x])\r\n",
        "                  for x in ['train', 'val']}\r\n",
        "dataloaders = {x: torch.utils.data.DataLoader(image_datasets[x], batch_size=128,\r\n",
        "                                             shuffle=True, num_workers=2)\r\n",
        "              for x in ['train', 'val']}\r\n",
        "dataset_sizes = {x: len(image_datasets[x]) for x in ['train', 'val']}\r\n",
        "class_names = image_datasets['train'].classes\r\n",
        "device = torch.device(\"cuda:0\" if torch.cuda.is_available() else \"cpu\")"
      ],
      "execution_count": 17,
      "outputs": []
    },
    {
      "cell_type": "code",
      "metadata": {
        "id": "aOd_k4NGXJxY"
      },
      "source": [
        "# No pretrained parameters\r\n",
        "model = models.resnet18(pretrained=True)\r\n",
        "model.avgpool = nn.AdaptiveAvgPool2d(1)\r\n",
        "\r\n",
        "# Modify the output class number\r\n",
        "num_ftrs = model.fc.in_features\r\n",
        "model.fc = nn.Linear(num_ftrs, 200)\r\n",
        "#model.conv1 = nn.Conv2d(3,64, kernel_size=(3,3), stride=(1,1), padding=(1,1))\r\n",
        "#model.maxpool = nn.Sequential()\r\n",
        "\r\n",
        "model = model.to(device)\r\n",
        "\r\n",
        "#Multi GPU\r\n",
        "#model = torch.nn.DataParallel(model, device_ids=[0, 1])\r\n",
        "\r\n",
        "#Loss Function\r\n",
        "criterion = nn.CrossEntropyLoss()\r\n",
        "\r\n",
        "# Observe that all parameters are being optimized\r\n",
        "optimizer_ft = optim.SGD(model.parameters(), lr=0.001, momentum=0.9)\r\n",
        "\r\n",
        "# Decay LR by a factor of 0.1 every 7 epochs\r\n",
        "exp_lr_scheduler = lr_scheduler.StepLR(optimizer_ft, step_size=7, gamma=0.1)"
      ],
      "execution_count": 25,
      "outputs": []
    },
    {
      "cell_type": "code",
      "metadata": {
        "id": "AIF02ZM_gBJm"
      },
      "source": [
        "def train_model(model, dataloaders, dataset_sizes, criterion, optimizer, scheduler, num_epochs=30):\r\n",
        "    device = torch.device(\"cuda:0\" if torch.cuda.is_available() else \"cpu\")\r\n",
        "    since = time.time()\r\n",
        "    liveloss = PlotLosses()\r\n",
        "    best_model_wts = copy.deepcopy(model.state_dict())\r\n",
        "    best_acc = 0.0\r\n",
        "\r\n",
        "    for epoch in range(num_epochs):\r\n",
        "        print('Epoch {}/{}'.format(epoch+1, num_epochs))\r\n",
        "        print('-' * 10)\r\n",
        "\r\n",
        "        # Each epoch has a training and validation phase\r\n",
        "        for phase in ['train', 'val']:\r\n",
        "            if phase == 'train':\r\n",
        "                scheduler.step()\r\n",
        "                model.train()  # Set model to training mode\r\n",
        "            else:\r\n",
        "                model.eval()   # Set model to evaluate mode\r\n",
        "\r\n",
        "            running_loss = 0.0\r\n",
        "            running_corrects = 0\r\n",
        "\r\n",
        "            # Iterate over data.\r\n",
        "            for i,(inputs, labels) in enumerate(dataloaders[phase]):\r\n",
        "                inputs = inputs.to(device)\r\n",
        "                labels = labels.to(device)\r\n",
        "\r\n",
        "                # zero the parameter gradients\r\n",
        "                optimizer.zero_grad()\r\n",
        "\r\n",
        "                # forward\r\n",
        "                # track history if only in train\r\n",
        "                with torch.set_grad_enabled(phase == 'train'):\r\n",
        "                    outputs = model(inputs)\r\n",
        "                    _, preds = torch.max(outputs, 1)\r\n",
        "                    loss = criterion(outputs, labels)\r\n",
        "\r\n",
        "                    # backward + optimize only if in training phase\r\n",
        "                    if phase == 'train':\r\n",
        "                        loss.backward()\r\n",
        "                        optimizer.step()\r\n",
        "\r\n",
        "                # statistics\r\n",
        "                running_loss += loss.item() * inputs.size(0)\r\n",
        "                running_corrects += torch.sum(preds == labels.data)\r\n",
        "                print(\"\\rIteration: {}/{}, Loss: {}.\".format(i+1, len(dataloaders[phase]), loss.item() * inputs.size(0)), end=\"\")\r\n",
        "                sys.stdout.flush()\r\n",
        "                \r\n",
        "                \r\n",
        "            epoch_loss = running_loss / dataset_sizes[phase]\r\n",
        "            epoch_acc = running_corrects.double() / dataset_sizes[phase]\r\n",
        "            if phase == 'train':\r\n",
        "                avg_loss = epoch_loss\r\n",
        "                t_acc = epoch_acc\r\n",
        "            else:\r\n",
        "                val_loss = epoch_loss\r\n",
        "                val_acc = epoch_acc\r\n",
        "\r\n",
        "            # deep copy the model\r\n",
        "            if phase == 'val' and epoch_acc > best_acc:\r\n",
        "                best_acc = epoch_acc\r\n",
        "                best_model_wts = copy.deepcopy(model.state_dict())\r\n",
        "                \r\n",
        "        liveloss.update({\r\n",
        "            'log loss': avg_loss,\r\n",
        "            'val_log loss': val_loss,\r\n",
        "            'accuracy': t_acc,\r\n",
        "            'val_accuracy': val_acc\r\n",
        "        })\r\n",
        "                \r\n",
        "        liveloss.draw()\r\n",
        "        print('Train Loss: {:.4f} Acc: {:.4f}'.format(avg_loss, t_acc))\r\n",
        "        print(  'Val Loss: {:.4f} Acc: {:.4f}'.format(val_loss, val_acc))\r\n",
        "        print('Best Val Accuracy: {}'.format(best_acc))\r\n",
        "        print()\r\n",
        "    \r\n",
        "    time_elapsed = time.time() - since\r\n",
        "    print('Training complete in {:.0f}m {:.0f}s'.format(\r\n",
        "        time_elapsed // 60, time_elapsed % 60))\r\n",
        "    print('Best val Acc: {:4f}'.format(best_acc))\r\n",
        "\r\n",
        "    # load best model weights\r\n",
        "    model.load_state_dict(best_model_wts)\r\n",
        "    return model"
      ],
      "execution_count": 26,
      "outputs": []
    },
    {
      "cell_type": "code",
      "metadata": {
        "colab": {
          "base_uri": "https://localhost:8080/",
          "height": 811
        },
        "id": "8Rup2mdbgTuz",
        "outputId": "0a282998-cce1-413a-ef1c-4548fd57c06d"
      },
      "source": [
        "model = train_model(model, dataloaders, dataset_sizes, criterion, optimizer_ft, exp_lr_scheduler,\r\n",
        "                       num_epochs=25)"
      ],
      "execution_count": null,
      "outputs": [
        {
          "output_type": "display_data",
          "data": {
            "image/png": "[encoded data removed]",
            "text/plain": [
              "<Figure size 864x576 with 2 Axes>"
            ]
          },
          "metadata": {
            "tags": [],
            "needs_background": "light"
          }
        },
        {
          "output_type": "stream",
          "text": [
            "accuracy\n",
            "\ttraining         \t (min:    0.304, max:    0.855, cur:    0.855)\n",
            "\tvalidation       \t (min:    0.005, max:    0.006, cur:    0.006)\n",
            "log loss\n",
            "\ttraining         \t (min:    0.658, max:    3.693, cur:    0.658)\n",
            "\tvalidation       \t (min:    7.202, max:   10.339, cur:   10.250)\n",
            "Train Loss: 0.6585 Acc: 0.8546\n",
            "Val Loss: 10.2501 Acc: 0.0055\n",
            "Best Val Accuracy: 0.0058000000000000005\n",
            "\n",
            "Epoch 15/25\n",
            "----------\n",
            "Iteration: 442/782, Loss: 89.3165512084961."
          ],
          "name": "stdout"
        }
      ]
    },
    {
      "cell_type": "code",
      "metadata": {
        "id": "J5076t_505pX"
      },
      "source": [
        "model"
      ],
      "execution_count": null,
      "outputs": []
    },
    {
      "cell_type": "code",
      "metadata": {
        "id": "rUBirV4-XUqx"
      },
      "source": [
        ""
      ],
      "execution_count": null,
      "outputs": []
    }
  ]
}