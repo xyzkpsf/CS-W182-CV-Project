{
  "nbformat": 4,
  "nbformat_minor": 0,
  "metadata": {
    "colab": {
      "name": "Retrain Last Layer of CV_Ensemble .ipynb",
      "provenance": [],
      "collapsed_sections": [],
      "mount_file_id": "1pwTxHrUBajGfLjDkCSfwlY2H-NZ9Pqrc",
      "authorship_tag": "ABX9TyPaS9TGtPlVOkZuRAzVuznM",
      "include_colab_link": true
    },
    "kernelspec": {
      "name": "python3",
      "display_name": "Python 3"
    },
    "language_info": {
      "name": "python"
    },
    "accelerator": "GPU"
  },
  "cells": [
    {
      "cell_type": "markdown",
      "metadata": {
        "id": "view-in-github",
        "colab_type": "text"
      },
      "source": [
        "<a href=\"https://colab.research.google.com/github/xyzkpsf/CS-W182-CV-Project/blob/main/Retrain_Last_Layer_of_CV_Ensemble_.ipynb\" target=\"_parent\"><img src=\"https://colab.research.google.com/assets/colab-badge.svg\" alt=\"Open In Colab\"/></a>"
      ]
    },
    {
      "cell_type": "code",
      "metadata": {
        "id": "UdTraSe-fLfi"
      },
      "source": [
        "try:\n",
        "    import torchbearer\n",
        "except:\n",
        "    !pip install -q torchbearer\n",
        "    import torchbearer\n",
        "\n",
        "!pip install livelossplot\n",
        "print(torchbearer.__version__)"
      ],
      "execution_count": null,
      "outputs": []
    },
    {
      "cell_type": "code",
      "metadata": {
        "id": "W76R8DyFgAfN"
      },
      "source": [
        "import torch\n",
        "import torch.nn as nn\n",
        "import torch.optim as optim\n",
        "import torch.nn.functional as F\n",
        "import numpy as np\n",
        "import torchvision\n",
        "import pandas as pd\n",
        "from torchvision import datasets, models, transforms\n",
        "from torch.utils.data import Dataset, DataLoader\n",
        "from torch.optim import lr_scheduler\n",
        "from torchvision.io import read_image\n",
        "from skimage import io, transform\n",
        "from PIL import Image\n",
        "import matplotlib.pyplot as plt\n",
        "from livelossplot import PlotLosses\n",
        "import time\n",
        "import copy\n",
        "import os\n",
        "import sys"
      ],
      "execution_count": null,
      "outputs": []
    },
    {
      "cell_type": "code",
      "metadata": {
        "id": "RQxbsEQRgHGj"
      },
      "source": [
        "!unzip '/content/drive/MyDrive/Spring 2021/CS 182/tiny-imagenet-200.zip'"
      ],
      "execution_count": null,
      "outputs": []
    },
    {
      "cell_type": "code",
      "metadata": {
        "id": "vnJkIyEvJFzg"
      },
      "source": [
        "class CustomImageDataset(Dataset):\n",
        "    def __init__(self, val_label_dir, img_dir, train_path, transform=None, target_transform=None):\n",
        "        super(CustomImageDataset, self).__init__()\n",
        "        self.val_label_file = pd.read_csv(val_label_dir, delimiter = \"\\t\", names=[\"pics\", \"labels\", \"_1\", \"_2\", \"_3\", \"_4\"])\n",
        "        self.img_labels = self.val_label_file[[\"pics\", 'labels']]\n",
        "        self.img_dir = img_dir\n",
        "        self.transform = transform\n",
        "        self.classes, self.class_to_idx = self._find_classes(train_path)\n",
        "\n",
        "    def __len__(self):\n",
        "        return len(self.img_labels)\n",
        "\n",
        "    def _find_classes(self, dir):\n",
        "        \"\"\"\n",
        "        Finds the class folders in a dataset.\n",
        "        Args:\n",
        "            dir (string): Root directory path.\n",
        "        Returns:\n",
        "            tuple: (classes, class_to_idx) where classes are relative to (dir), and class_to_idx is a dictionary.\n",
        "        Ensures:\n",
        "            No class is a subdirectory of another.\n",
        "        \"\"\"\n",
        "        if sys.version_info >= (3, 5):\n",
        "            # Faster and available in Python 3.5 and above\n",
        "            classes = [d.name for d in os.scandir(dir) if d.is_dir()]\n",
        "        else:\n",
        "            classes = [d for d in os.listdir(dir) if os.path.isdir(os.path.join(dir, d))]\n",
        "        classes.sort()\n",
        "        class_to_idx = {classes[i]: i for i in range(len(classes))}\n",
        "        return classes, class_to_idx\n",
        "\n",
        "    def pad(self, img):\n",
        "        padding = np.ones((64, 64, 2))\n",
        "        img = img.reshape((64, 64, 1))\n",
        "        img = np.concatenate((img, padding), axis=2)\n",
        "        return img.astype(np.float32)\n",
        "      \n",
        "    def __getitem__(self, idx):\n",
        "        img_path = os.path.join(self.img_dir, self.img_labels.iloc[idx, 0])\n",
        "        img = Image.open(img_path)\n",
        "        img = copy.deepcopy(np.asarray(img))\n",
        "        # if it has less than 3 channels\n",
        "        if img.shape != (64, 64, 3):\n",
        "            img = self.pad(img)\n",
        "        #print(img.shape)\n",
        "        label = self.img_labels.iloc[idx, 1]\n",
        "        label = self.class_to_idx[label]\n",
        "        if self.transform:\n",
        "            img = self.transform(img)\n",
        "        #sample = {\"image\": img, \"label\": label}\n",
        "        return img, label"
      ],
      "execution_count": null,
      "outputs": []
    },
    {
      "cell_type": "code",
      "metadata": {
        "id": "12uDWdL4gNlD"
      },
      "source": [
        "data_transforms = {\n",
        "    'train': transforms.Compose([\n",
        "        transforms.ToTensor(),\n",
        "        #transforms.Normalize([0.485, 0.456, 0.406], [0.229, 0.224, 0.225])\n",
        "    ]),\n",
        "    'val': transforms.Compose([\n",
        "        transforms.ToTensor(),\n",
        "        #transforms.Normalize([0.485, 0.456, 0.406], [0.229, 0.224, 0.225])\n",
        "    ]),\n",
        "}\n",
        "\n",
        "data_dir = '/content/tiny-imagenet-200'\n",
        "\n",
        "val_label_dir = '/content/tiny-imagenet-200/val/val_annotations.txt'\n",
        "\n",
        "image_datasets = {}\n",
        "\n",
        "image_datasets['train'] = datasets.ImageFolder(os.path.join(data_dir, 'train'),\n",
        "                                          data_transforms['train'])\n",
        "\n",
        "image_datasets['val'] = CustomImageDataset(val_label_dir, data_dir+'/val/images', \n",
        "                                           os.path.join(data_dir, 'train'),\n",
        "                                           transform=data_transforms['val'])\n",
        "\n",
        "dataloaders = {x: torch.utils.data.DataLoader(image_datasets[x], batch_size=64,\n",
        "                                             shuffle=True, num_workers=2)\n",
        "                                            for x in ['train', 'val']}\n",
        "\n",
        "dataset_sizes = {x: len(image_datasets[x]) for x in ['train', 'val']}\n",
        "\n",
        "device = torch.device(\"cuda:0\" if torch.cuda.is_available() else \"cpu\")"
      ],
      "execution_count": null,
      "outputs": []
    },
    {
      "cell_type": "code",
      "metadata": {
        "id": "Qespvjx8QCPG"
      },
      "source": [
        "#x, y = next(iter(image_datasets['val']))\n",
        "#print(x, y)"
      ],
      "execution_count": null,
      "outputs": []
    },
    {
      "cell_type": "code",
      "metadata": {
        "id": "llxIgvXAgi2a"
      },
      "source": [
        "# No pretrained parameters\n",
        "\n",
        "\n",
        "# First model\n",
        "model1 = models.resnet18(pretrained=False)\n",
        "model1.avgpool = nn.AdaptiveAvgPool2d(1)\n",
        "num_ftrs = model1.fc.in_features\n",
        "model1.fc = nn.Linear(num_ftrs, 200)\n",
        "model1.conv1 = nn.Conv2d(3,64, kernel_size=(3,3), stride=(1,1), padding=(1,1))\n",
        "model1.maxpool = nn.Sequential()\n",
        "model1 = model1.to(device)\n",
        "\n",
        "\n",
        "# Second model\n",
        "model2 = models.resnet50(pretrained=False)\n",
        "model2.avgpool = nn.AdaptiveAvgPool2d(1)\n",
        "num_ftrs = model2.fc.in_features\n",
        "model2.fc = nn.Linear(num_ftrs, 200)\n",
        "model2.conv1 = nn.Conv2d(3,64, kernel_size=(3,3), stride=(1,1), padding=(1,1))\n",
        "model2.maxpool = nn.Sequential()\n",
        "model2 = model2.to(device)\n",
        "\n",
        "\n",
        "# Third model\n",
        "model3 = models.resnet101(pretrained=False)\n",
        "model3.avgpool = nn.AdaptiveAvgPool2d(1)\n",
        "num_ftrs = model3.fc.in_features\n",
        "model3.fc = nn.Linear(num_ftrs, 200)\n",
        "model3.conv1 = nn.Conv2d(3,64, kernel_size=(3,3), stride=(1,1), padding=(1,1))\n",
        "model3.maxpool = nn.Sequential()\n",
        "model3 = model3.to(device)\n",
        "\n",
        "\n",
        "#Multi GPU\n",
        "#model = torch.nn.DataParallel(model, device_ids=[0, 1])\n"
      ],
      "execution_count": null,
      "outputs": []
    },
    {
      "cell_type": "code",
      "metadata": {
        "id": "6EzHIHuwgtHI"
      },
      "source": [
        "def train_model(model, dataloaders, dataset_sizes, criterion, optimizer, scheduler, num_epochs=30):\n",
        "    device = torch.device(\"cuda:0\" if torch.cuda.is_available() else \"cpu\")\n",
        "    since = time.time()\n",
        "    liveloss = PlotLosses()\n",
        "    best_model_wts = copy.deepcopy(model.state_dict())\n",
        "    best_acc = 0.0\n",
        "\n",
        "    for epoch in range(num_epochs):\n",
        "        print('Epoch {}/{}'.format(epoch+1, num_epochs))\n",
        "        print('-' * 10)\n",
        "\n",
        "        # Each epoch has a training and validation phase\n",
        "        for phase in ['train', 'val']:\n",
        "            if phase == 'train':\n",
        "                scheduler.step()\n",
        "                model.train()  # Set model to training mode\n",
        "            else:\n",
        "                model.eval()   # Set model to evaluate mode\n",
        "\n",
        "            running_loss = 0.0\n",
        "            running_corrects = 0\n",
        "\n",
        "            # Iterate over data.\n",
        "            for i,(inputs, labels) in enumerate(dataloaders[phase]):\n",
        "                inputs = inputs.to(device)\n",
        "                labels = labels.to(device)\n",
        "\n",
        "                # zero the parameter gradients\n",
        "                optimizer.zero_grad()\n",
        "\n",
        "                # forward\n",
        "                # track history if only in train\n",
        "                with torch.set_grad_enabled(phase == 'train'):\n",
        "                    outputs = model(inputs)\n",
        "                    _, preds = torch.max(outputs, 1)\n",
        "                    loss = criterion(outputs, labels)\n",
        "\n",
        "                    # backward + optimize only if in training phase\n",
        "                    if phase == 'train':\n",
        "                        loss.backward()\n",
        "                        optimizer.step()\n",
        "\n",
        "                # statistics\n",
        "                running_loss += loss.item() * inputs.size(0)\n",
        "                running_corrects += torch.sum(preds == labels.data)\n",
        "                print(\"\\rIteration: {}/{}, Loss: {}.\".format(i+1, len(dataloaders[phase]), loss.item() * inputs.size(0)), end=\"\")\n",
        "                sys.stdout.flush()\n",
        "                \n",
        "                \n",
        "            epoch_loss = running_loss / dataset_sizes[phase]\n",
        "            epoch_acc = running_corrects.double() / dataset_sizes[phase]\n",
        "            if phase == 'train':\n",
        "                avg_loss = epoch_loss\n",
        "                t_acc = epoch_acc\n",
        "            else:\n",
        "                val_loss = epoch_loss\n",
        "                val_acc = epoch_acc\n",
        "\n",
        "            # deep copy the model\n",
        "            if phase == 'val' and epoch_acc > best_acc:\n",
        "                best_acc = epoch_acc\n",
        "                best_model_wts = copy.deepcopy(model.state_dict())\n",
        "                \n",
        "        liveloss.update({\n",
        "            'log loss': avg_loss,\n",
        "            'val_log loss': val_loss,\n",
        "            'accuracy': t_acc,\n",
        "            'val_accuracy': val_acc\n",
        "        })\n",
        "                \n",
        "        liveloss.draw()\n",
        "        print('Train Loss: {:.4f} Acc: {:.4f}'.format(avg_loss, t_acc))\n",
        "        print(  'Val Loss: {:.4f} Acc: {:.4f}'.format(val_loss, val_acc))\n",
        "        print('Best Val Accuracy: {}'.format(best_acc))\n",
        "        print()\n",
        "    \n",
        "    time_elapsed = time.time() - since\n",
        "    print('Training complete in {:.0f}m {:.0f}s'.format(\n",
        "        time_elapsed // 60, time_elapsed % 60))\n",
        "    print('Best val Acc: {:4f}'.format(best_acc))\n",
        "\n",
        "    # load best model weights\n",
        "    model.load_state_dict(best_model_wts)\n",
        "    return model"
      ],
      "execution_count": null,
      "outputs": []
    },
    {
      "cell_type": "code",
      "metadata": {
        "id": "ahRrxIA5GpIh"
      },
      "source": [
        "# Need to train each model first then load into the Ensemble class for validation.\n",
        "# Change the following block for each model"
      ],
      "execution_count": null,
      "outputs": []
    },
    {
      "cell_type": "code",
      "metadata": {
        "id": "2sgtXMMKGHtD"
      },
      "source": [
        "#Loss Function\n",
        "criterion = nn.CrossEntropyLoss()\n",
        "\n",
        "# Observe that all parameters are being optimized\n",
        "optimizer_ft = optim.SGD(model3.parameters(), lr=0.001, momentum=0.9)\n",
        "\n",
        "# Decay LR by a factor of 0.1 every 7 epochs\n",
        "exp_lr_scheduler = lr_scheduler.StepLR(optimizer_ft, step_size=7, gamma=0.1)"
      ],
      "execution_count": null,
      "outputs": []
    },
    {
      "cell_type": "code",
      "metadata": {
        "id": "NEZISMu105hR"
      },
      "source": [
        "import gc \n",
        "gc.collect()\n",
        "torch.cuda.empty_cache()"
      ],
      "execution_count": null,
      "outputs": []
    },
    {
      "cell_type": "code",
      "metadata": {
        "id": "GEmHKrGqhGGJ"
      },
      "source": [
        "trainning_model = model3\n",
        "model = train_model(trainning_model, dataloaders, dataset_sizes, criterion, optimizer_ft, exp_lr_scheduler,\n",
        "                       num_epochs=10)"
      ],
      "execution_count": null,
      "outputs": []
    },
    {
      "cell_type": "code",
      "metadata": {
        "id": "FcN3IbaPhJeT"
      },
      "source": [
        "# Don't REPLACE the old one.\n",
        "# Remeber to change the temp.pt each time.\n",
        "model_save_path = \"/content/drive/MyDrive/CV Project Model State Dict/temp.pt\"\n",
        "torch.save(model.state_dict(), model_save_path)"
      ],
      "execution_count": null,
      "outputs": []
    },
    {
      "cell_type": "code",
      "metadata": {
        "id": "JuyldEw6WNkX"
      },
      "source": [
        "class MyEnsemble(nn.Module):\n",
        "    def __init__(self, model1, model2, model3):\n",
        "          super(MyEnsemble,self).__init__()\n",
        "          self.model1 = model1 \n",
        "          self.model2 = model2 \n",
        "          self.model3 = model3  \n",
        "\n",
        "          self.model1.fc = nn.Identity()\n",
        "          self.model2.fc = nn.Identity()\n",
        "          self.model3.fc = nn.Identity()\n",
        "\n",
        "          # Dimension according to the models' last layer\n",
        "          self.classifier = nn.Linear(512+2048+2048, 200)\n",
        "\n",
        "    def forward(self, x):\n",
        "        x1 = self.model1(x.clone())\n",
        "        x1 = x1.view(x1.size(0), -1)\n",
        "        \n",
        "        x2 = self.model2(x)\n",
        "        x2 = x2.view(x2.size(0), -1)\n",
        "        \n",
        "        x3 = self.model3(x)\n",
        "        x3 = x3.view(x3.size(0), -1)\n",
        "\n",
        "        x = torch.cat((x1, x2, x3), dim=1)\n",
        "        x = self.classifier(F.relu(x))\n",
        "\n",
        "        return x"
      ],
      "execution_count": null,
      "outputs": []
    },
    {
      "cell_type": "code",
      "metadata": {
        "id": "YlU_BeNOZjhj"
      },
      "source": [
        "def validation(model, dataloaders, criterion):\n",
        "    device = torch.device(\"cuda:0\" if torch.cuda.is_available() else \"cpu\")\n",
        "    model.eval()\n",
        "    running_loss = 0.0\n",
        "    running_corrects = 0\n",
        "    total_samples = 0\n",
        "\n",
        "    # Iterate over data.\n",
        "    for i,(inputs, labels) in enumerate(dataloaders['val']):\n",
        "        inputs = inputs.to(device)\n",
        "        labels = labels.to(device)\n",
        "        outputs = model(inputs)\n",
        "        _, preds = torch.max(outputs, 1)\n",
        "        #loss = criterion(outputs, labels)\n",
        "\n",
        "        #running_loss += loss.item() * inputs.size(0)\n",
        "        running_corrects += torch.sum(preds == labels.data)\n",
        "        total_samples += len(labels)\n",
        "        if i % 10 == 0:\n",
        "            print(  '\\rIteration: {}/{}, Avg Acc: {:.4f}'.format(i+1, len(dataloaders['val']),  running_corrects/(total_samples)))\n",
        "      \n",
        "    #val_loss = running_loss / len(dataloaders['val'])\n",
        "    val_acc = running_corrects.double() / len(dataloaders['val'])\n",
        "    print(  'Fianl Acc: {:.4f}'.format(val_acc))"
      ],
      "execution_count": null,
      "outputs": []
    },
    {
      "cell_type": "code",
      "metadata": {
        "id": "6agcG7qPXgSU"
      },
      "source": [
        "\n",
        "PATH1 = \"/content/drive/MyDrive/CV Project Model State Dict/ResNet18 10-Epoch.pt\"\n",
        "model1.load_state_dict(torch.load(PATH1))\n",
        "for param in model1.parameters():\n",
        "    param.requires_grad_(False)\n",
        "\n",
        "\n",
        "PATH2 = \"/content/drive/MyDrive/CV Project Model State Dict/ResNet50 5-Epoch.pt\"\n",
        "model2.load_state_dict(torch.load(PATH2))\n",
        "for param in model2.parameters():\n",
        "    param.requires_grad_(False)\n",
        "\n",
        "PATH3 = \"/content/drive/MyDrive/CV Project Model State Dict/ResNet101.pt\"\n",
        "model3.load_state_dict(torch.load(PATH3))\n",
        "for param in model3.parameters():\n",
        "    param.requires_grad_(False)\n",
        "\n"
      ],
      "execution_count": null,
      "outputs": []
    },
    {
      "cell_type": "code",
      "metadata": {
        "id": "3oi3AgmYNgx-"
      },
      "source": [
        "\n",
        "# Only finish training model1 so far\n",
        "model = MyEnsemble(model1, model2, model3)\n",
        "model = model.to(device)\n",
        "#validation(model, dataloaders, nn.CrossEntropyLoss())"
      ],
      "execution_count": null,
      "outputs": []
    },
    {
      "cell_type": "code",
      "metadata": {
        "id": "5nzyfP0HcIAE"
      },
      "source": [
        "criterion = nn.CrossEntropyLoss()\n",
        "optimizer = torch.optim.SGD(model.parameters(),   lr=0.00001)\n",
        "scheduler = lr_scheduler.StepLR(optimizer, step_size=7, gamma=0.1)"
      ],
      "execution_count": null,
      "outputs": []
    },
    {
      "cell_type": "code",
      "metadata": {
        "colab": {
          "base_uri": "https://localhost:8080/",
          "height": 801
        },
        "id": "t93JBGFcciEE",
        "outputId": "1ed9e3ca-37f4-4fae-b99e-4f615c2487c1"
      },
      "source": [
        "trainning_model = model\n",
        "model = train_model(trainning_model, dataloaders, dataset_sizes, criterion, optimizer, scheduler,\n",
        "                       num_epochs=15)"
      ],
      "execution_count": null,
      "outputs": [
        {
          "output_type": "display_data",
          "data": {
            "image/png": "[encoded data removed]",
            "text/plain": [
              "<Figure size 864x576 with 2 Axes>"
            ]
          },
          "metadata": {
            "tags": [],
            "needs_background": "light"
          }
        },
        {
          "output_type": "stream",
          "text": [
            "accuracy\n",
            "\ttraining         \t (min:    0.022, max:    0.115, cur:    0.115)\n",
            "\tvalidation       \t (min:    0.022, max:    0.108, cur:    0.108)\n",
            "log loss\n",
            "\ttraining         \t (min:    4.860, max:    5.160, cur:    4.860)\n",
            "\tvalidation       \t (min:    7.053, max:    7.761, cur:    7.082)\n",
            "Train Loss: 4.8601 Acc: 0.1147\n",
            "Val Loss: 7.0820 Acc: 0.1078\n",
            "Best Val Accuracy: 0.1078\n",
            "\n",
            "Epoch 12/15\n",
            "----------\n",
            "Iteration: 958/1563, Loss: 309.61737060546875."
          ],
          "name": "stdout"
        }
      ]
    },
    {
      "cell_type": "code",
      "metadata": {
        "id": "F-5R4BtK8KOQ"
      },
      "source": [
        "validation(model, dataloaders, nn.CrossEntropyLoss())"
      ],
      "execution_count": null,
      "outputs": []
    }
  ]
}