{
  "nbformat": 4,
  "nbformat_minor": 0,
  "metadata": {
    "colab": {
      "name": "adv .ipynb",
      "provenance": [],
      "collapsed_sections": [],
      "mount_file_id": "1rr6fnr21G4ZKoV_zvW18Pf7jeazCOSBJ",
      "authorship_tag": "ABX9TyNnZy52k6FFuN/Qrwn4n5tk",
      "include_colab_link": true
    },
    "kernelspec": {
      "name": "python3",
      "display_name": "Python 3"
    },
    "language_info": {
      "name": "python"
    },
    "accelerator": "GPU"
  },
  "cells": [
    {
      "cell_type": "markdown",
      "metadata": {
        "id": "view-in-github",
        "colab_type": "text"
      },
      "source": [
        "<a href=\"https://colab.research.google.com/github/xyzkpsf/CS-W182-CV-Project/blob/main/adv_.ipynb\" target=\"_parent\"><img src=\"https://colab.research.google.com/assets/colab-badge.svg\" alt=\"Open In Colab\"/></a>"
      ]
    },
    {
      "cell_type": "code",
      "metadata": {
        "id": "UdTraSe-fLfi"
      },
      "source": [
        "try:\n",
        "    import torchbearer\n",
        "except:\n",
        "    !pip install -q torchbearer\n",
        "    import torchbearer\n",
        "\n",
        "!pip install livelossplot"
      ],
      "execution_count": null,
      "outputs": []
    },
    {
      "cell_type": "code",
      "metadata": {
        "id": "ogQA1ZEfr9O7"
      },
      "source": [
        "try:\n",
        "    from art.attacks.evasion import FastGradientMethod\n",
        "    from art.estimators.classification import PyTorchClassifier\n",
        "except:\n",
        "    !pip install adversarial-robustness-toolbox\n",
        "    from art.attacks.evasion import FastGradientMethod\n",
        "    from art.estimators.classification import PyTorchClassifier"
      ],
      "execution_count": null,
      "outputs": []
    },
    {
      "cell_type": "code",
      "metadata": {
        "id": "W76R8DyFgAfN"
      },
      "source": [
        "import torch\n",
        "import torch.nn as nn\n",
        "import torch.optim as optim\n",
        "import torch.nn.functional as F\n",
        "import numpy as np\n",
        "import torchvision\n",
        "import pandas as pd\n",
        "from torchvision import datasets, models, transforms\n",
        "from torch.utils.data import Dataset, DataLoader\n",
        "from torch.optim import lr_scheduler\n",
        "from torchvision.io import read_image\n",
        "from skimage import io, transform\n",
        "from PIL import Image\n",
        "import matplotlib.pyplot as plt\n",
        "from livelossplot import PlotLosses\n",
        "import time\n",
        "import copy\n",
        "import os\n",
        "import sys\n"
      ],
      "execution_count": 3,
      "outputs": []
    },
    {
      "cell_type": "code",
      "metadata": {
        "id": "RQxbsEQRgHGj"
      },
      "source": [
        "!unzip '/content/drive/MyDrive/Spring 2021/CS 182/tiny-imagenet-200.zip'"
      ],
      "execution_count": null,
      "outputs": []
    },
    {
      "cell_type": "code",
      "metadata": {
        "id": "vnJkIyEvJFzg"
      },
      "source": [
        "class CustomImageDataset(Dataset):\n",
        "    def __init__(self, val_label_dir, img_dir, train_path, transform=None, target_transform=None):\n",
        "        super(CustomImageDataset, self).__init__()\n",
        "        self.val_label_file = pd.read_csv(val_label_dir, delimiter = \"\\t\", names=[\"pics\", \"labels\", \"_1\", \"_2\", \"_3\", \"_4\"])\n",
        "        self.img_labels = self.val_label_file[[\"pics\", 'labels']]\n",
        "        self.img_dir = img_dir\n",
        "        self.transform = transform\n",
        "        self.classes, self.class_to_idx = self._find_classes(train_path)\n",
        "\n",
        "    def __len__(self):\n",
        "        return len(self.img_labels)\n",
        "\n",
        "    def _find_classes(self, dir):\n",
        "        \"\"\"\n",
        "        Finds the class folders in a dataset.\n",
        "        Args:\n",
        "            dir (string): Root directory path.\n",
        "        Returns:\n",
        "            tuple: (classes, class_to_idx) where classes are relative to (dir), and class_to_idx is a dictionary.\n",
        "        Ensures:\n",
        "            No class is a subdirectory of another.\n",
        "        \"\"\"\n",
        "        if sys.version_info >= (3, 5):\n",
        "            # Faster and available in Python 3.5 and above\n",
        "            classes = [d.name for d in os.scandir(dir) if d.is_dir()]\n",
        "        else:\n",
        "            classes = [d for d in os.listdir(dir) if os.path.isdir(os.path.join(dir, d))]\n",
        "        classes.sort()\n",
        "        class_to_idx = {classes[i]: i for i in range(len(classes))}\n",
        "        return classes, class_to_idx\n",
        "\n",
        "    def pad(self, img):\n",
        "        padding = np.ones((64, 64, 2))\n",
        "        img = img.reshape((64, 64, 1))\n",
        "        img = np.concatenate((img, padding), axis=2)\n",
        "        return img.astype(np.float32)\n",
        "      \n",
        "    def __getitem__(self, idx):\n",
        "        img_path = os.path.join(self.img_dir, self.img_labels.iloc[idx, 0])\n",
        "        img = Image.open(img_path)\n",
        "        img = copy.deepcopy(np.asarray(img))\n",
        "        # if it has less than 3 channels\n",
        "        if img.shape != (64, 64, 3):\n",
        "            img = self.pad(img)\n",
        "        #print(img.shape)\n",
        "        label = self.img_labels.iloc[idx, 1]\n",
        "        label = self.class_to_idx[label]\n",
        "        if self.transform:\n",
        "            img = self.transform(img)\n",
        "        #sample = {\"image\": img, \"label\": label}\n",
        "        return img, label"
      ],
      "execution_count": 6,
      "outputs": []
    },
    {
      "cell_type": "code",
      "metadata": {
        "id": "12uDWdL4gNlD"
      },
      "source": [
        "data_transforms = {\n",
        "    'train': transforms.Compose([\n",
        "        transforms.ToTensor(),\n",
        "        #transforms.Normalize([0.485, 0.456, 0.406], [0.229, 0.224, 0.225])\n",
        "    ]),\n",
        "    'val': transforms.Compose([\n",
        "        transforms.ToTensor(),\n",
        "        #transforms.Normalize([0.485, 0.456, 0.406], [0.229, 0.224, 0.225])\n",
        "    ]),\n",
        "}\n",
        "\n",
        "data_dir = '/content/tiny-imagenet-200'\n",
        "\n",
        "val_label_dir = '/content/tiny-imagenet-200/val/val_annotations.txt'\n",
        "\n",
        "image_datasets = {}\n",
        "\n",
        "image_datasets['train'] = datasets.ImageFolder(os.path.join(data_dir, 'train'),\n",
        "                                          data_transforms['train'])\n",
        "\n",
        "image_datasets['val'] = CustomImageDataset(val_label_dir, data_dir+'/val/images', \n",
        "                                           os.path.join(data_dir, 'train'),\n",
        "                                           transform=data_transforms['val'])\n",
        "\n",
        "dataloaders = {x: torch.utils.data.DataLoader(image_datasets[x], batch_size=128,\n",
        "                                             shuffle=True, num_workers=2)\n",
        "                                            for x in ['train', 'val']}\n",
        "\n",
        "dataset_sizes = {x: len(image_datasets[x]) for x in ['train', 'val']}\n",
        "\n",
        "device = torch.device(\"cuda:0\" if torch.cuda.is_available() else \"cpu\")"
      ],
      "execution_count": 7,
      "outputs": []
    },
    {
      "cell_type": "code",
      "metadata": {
        "id": "Qespvjx8QCPG"
      },
      "source": [
        "model = torch.load(\"/content/drive/MyDrive/CV Project Model State Dict/Resnet18_WholeModel_val_54.pt\")"
      ],
      "execution_count": 8,
      "outputs": []
    },
    {
      "cell_type": "code",
      "metadata": {
        "id": "PRW4PHsLtHXM"
      },
      "source": [
        "criterion = nn.CrossEntropyLoss()\n",
        "optimizer_ft = optim.SGD(model.parameters(), lr=0.001, momentum=0.9)\n",
        "exp_lr_scheduler = lr_scheduler.StepLR(optimizer_ft, step_size=7, gamma=0.1)"
      ],
      "execution_count": 9,
      "outputs": []
    },
    {
      "cell_type": "code",
      "metadata": {
        "id": "IvHCuLXptIke"
      },
      "source": [
        "classifier = PyTorchClassifier(\n",
        "    model=model,\n",
        "    loss=criterion,\n",
        "    optimizer=optimizer_ft,\n",
        "    #input_shape=(3, 64, 64),\n",
        "    input_shape=(64, 64, 3),\n",
        "    nb_classes=200,\n",
        "    device_type = device,\n",
        ")"
      ],
      "execution_count": 42,
      "outputs": []
    },
    {
      "cell_type": "code",
      "metadata": {
        "colab": {
          "base_uri": "https://localhost:8080/"
        },
        "id": "JnHIXo5ttIwU",
        "outputId": "6684a7a5-8e9d-4fab-8289-f7791b006b15"
      },
      "source": [
        "for epoch in range(1):\n",
        "    for i,(inputs, labels) in enumerate(dataloaders['train']):\n",
        "        inputs = inputs.numpy()\n",
        "        labels = labels.numpy()\n",
        "        classifier.fit(inputs, labels)\n",
        "        if i % 10 == 0:\n",
        "            print(\"EPOCH: {}, ITERATION: {}/{}\".format(epoch+1, i+1, len(dataloaders['train'])))"
      ],
      "execution_count": 43,
      "outputs": [
        {
          "output_type": "stream",
          "text": [
            "EPOCH: 1, ITERATION: 1/782\n",
            "EPOCH: 1, ITERATION: 11/782\n",
            "EPOCH: 1, ITERATION: 21/782\n",
            "EPOCH: 1, ITERATION: 31/782\n",
            "EPOCH: 1, ITERATION: 41/782\n",
            "EPOCH: 1, ITERATION: 51/782\n",
            "EPOCH: 1, ITERATION: 61/782\n",
            "EPOCH: 1, ITERATION: 71/782\n",
            "EPOCH: 1, ITERATION: 81/782\n",
            "EPOCH: 1, ITERATION: 91/782\n",
            "EPOCH: 1, ITERATION: 101/782\n",
            "EPOCH: 1, ITERATION: 111/782\n",
            "EPOCH: 1, ITERATION: 121/782\n",
            "EPOCH: 1, ITERATION: 131/782\n",
            "EPOCH: 1, ITERATION: 141/782\n",
            "EPOCH: 1, ITERATION: 151/782\n",
            "EPOCH: 1, ITERATION: 161/782\n",
            "EPOCH: 1, ITERATION: 171/782\n",
            "EPOCH: 1, ITERATION: 181/782\n",
            "EPOCH: 1, ITERATION: 191/782\n",
            "EPOCH: 1, ITERATION: 201/782\n",
            "EPOCH: 1, ITERATION: 211/782\n",
            "EPOCH: 1, ITERATION: 221/782\n",
            "EPOCH: 1, ITERATION: 231/782\n",
            "EPOCH: 1, ITERATION: 241/782\n",
            "EPOCH: 1, ITERATION: 251/782\n",
            "EPOCH: 1, ITERATION: 261/782\n",
            "EPOCH: 1, ITERATION: 271/782\n",
            "EPOCH: 1, ITERATION: 281/782\n",
            "EPOCH: 1, ITERATION: 291/782\n",
            "EPOCH: 1, ITERATION: 301/782\n",
            "EPOCH: 1, ITERATION: 311/782\n",
            "EPOCH: 1, ITERATION: 321/782\n",
            "EPOCH: 1, ITERATION: 331/782\n",
            "EPOCH: 1, ITERATION: 341/782\n",
            "EPOCH: 1, ITERATION: 351/782\n",
            "EPOCH: 1, ITERATION: 361/782\n",
            "EPOCH: 1, ITERATION: 371/782\n",
            "EPOCH: 1, ITERATION: 381/782\n",
            "EPOCH: 1, ITERATION: 391/782\n",
            "EPOCH: 1, ITERATION: 401/782\n",
            "EPOCH: 1, ITERATION: 411/782\n",
            "EPOCH: 1, ITERATION: 421/782\n",
            "EPOCH: 1, ITERATION: 431/782\n",
            "EPOCH: 1, ITERATION: 441/782\n",
            "EPOCH: 1, ITERATION: 451/782\n",
            "EPOCH: 1, ITERATION: 461/782\n",
            "EPOCH: 1, ITERATION: 471/782\n",
            "EPOCH: 1, ITERATION: 481/782\n",
            "EPOCH: 1, ITERATION: 491/782\n",
            "EPOCH: 1, ITERATION: 501/782\n",
            "EPOCH: 1, ITERATION: 511/782\n",
            "EPOCH: 1, ITERATION: 521/782\n",
            "EPOCH: 1, ITERATION: 531/782\n",
            "EPOCH: 1, ITERATION: 541/782\n",
            "EPOCH: 1, ITERATION: 551/782\n",
            "EPOCH: 1, ITERATION: 561/782\n",
            "EPOCH: 1, ITERATION: 571/782\n",
            "EPOCH: 1, ITERATION: 581/782\n",
            "EPOCH: 1, ITERATION: 591/782\n",
            "EPOCH: 1, ITERATION: 601/782\n",
            "EPOCH: 1, ITERATION: 611/782\n",
            "EPOCH: 1, ITERATION: 621/782\n",
            "EPOCH: 1, ITERATION: 631/782\n",
            "EPOCH: 1, ITERATION: 641/782\n",
            "EPOCH: 1, ITERATION: 651/782\n",
            "EPOCH: 1, ITERATION: 661/782\n",
            "EPOCH: 1, ITERATION: 671/782\n",
            "EPOCH: 1, ITERATION: 681/782\n",
            "EPOCH: 1, ITERATION: 691/782\n",
            "EPOCH: 1, ITERATION: 701/782\n",
            "EPOCH: 1, ITERATION: 711/782\n",
            "EPOCH: 1, ITERATION: 721/782\n",
            "EPOCH: 1, ITERATION: 731/782\n",
            "EPOCH: 1, ITERATION: 741/782\n",
            "EPOCH: 1, ITERATION: 751/782\n",
            "EPOCH: 1, ITERATION: 761/782\n",
            "EPOCH: 1, ITERATION: 771/782\n",
            "EPOCH: 1, ITERATION: 781/782\n"
          ],
          "name": "stdout"
        }
      ]
    },
    {
      "cell_type": "code",
      "metadata": {
        "id": "KEwo-sP_9oS6"
      },
      "source": [
        "def validation(model, dataloaders):\n",
        "    device = torch.device(\"cuda:0\" if torch.cuda.is_available() else \"cpu\")\n",
        "    correct = 0\n",
        "    total = 0\n",
        "    with torch.no_grad():\n",
        "        for i,(inputs, labels) in enumerate(dataloaders['val']):\n",
        "            inputs = inputs.to(device)\n",
        "            labels = labels.to(device)\n",
        "            outputs = model(inputs)\n",
        "            _, preds = torch.max(outputs, 1)\n",
        "            total += labels.size(0)\n",
        "            correct += (preds == labels).sum().item()\n",
        "            if i % 10 == 0:\n",
        "                print('\\rIteration: {}/{}, Avg Acc: {:.4f}'.format(i+1, len(dataloaders['val']), (100 * correct / total)))\n",
        "    print(\"Total Sample numbers: {}, Overall Acc: {:.2f}\".format(total, (100 * correct / total)))"
      ],
      "execution_count": 44,
      "outputs": []
    },
    {
      "cell_type": "code",
      "metadata": {
        "colab": {
          "base_uri": "https://localhost:8080/"
        },
        "id": "BKmkJxW99ois",
        "outputId": "70a3b837-1041-48ea-a21c-cebf00855c26"
      },
      "source": [
        "validation(model, dataloaders)"
      ],
      "execution_count": 45,
      "outputs": [
        {
          "output_type": "stream",
          "text": [
            "Iteration: 1/79, Avg Acc: 7.0312\n",
            "Iteration: 11/79, Avg Acc: 13.2812\n",
            "Iteration: 21/79, Avg Acc: 16.2202\n",
            "Iteration: 31/79, Avg Acc: 15.2470\n",
            "Iteration: 41/79, Avg Acc: 15.1296\n",
            "Iteration: 51/79, Avg Acc: 18.8725\n",
            "Iteration: 61/79, Avg Acc: 18.1609\n",
            "Iteration: 71/79, Avg Acc: 17.4846\n",
            "Total Sample numbers: 10000, Overall Acc: 17.51\n"
          ],
          "name": "stdout"
        }
      ]
    },
    {
      "cell_type": "code",
      "metadata": {
        "id": "KGJikGdX9osD"
      },
      "source": [
        "attack = FastGradientMethod(estimator=classifier, eps=0.2)"
      ],
      "execution_count": 46,
      "outputs": []
    },
    {
      "cell_type": "code",
      "metadata": {
        "id": "cdhgdhvYD_M2"
      },
      "source": [
        "def adv_validation(model, dataloaders):\n",
        "    device = torch.device(\"cuda:0\" if torch.cuda.is_available() else \"cpu\")\n",
        "    correct = 0\n",
        "    total = 0\n",
        "    for i,(inputs, labels) in enumerate(dataloaders['val']):\n",
        "        inputs = inputs.numpy()\n",
        "        labels = labels.numpy()\n",
        "\n",
        "        # Add attack here\n",
        "        inputs_adv = attack.generate(x=inputs)\n",
        "        outputs = classifier.predict(inputs_adv)\n",
        "        preds = np.argmax(outputs, axis=1)\n",
        "        total += len(labels)\n",
        "        correct += np.sum(preds == labels)\n",
        "        if i % 10 == 0:\n",
        "            print('\\rIteration: {}/{}, Avg Acc for Adversarial inputs: {:.4f}'.format(i+1, len(dataloaders['val']), (100 * correct / total)))\n",
        "    print(\"Total Sample numbers: {}, Overall Acc for Adversarial inputs: {:.2f}\".format(total, (100 * correct / total)))"
      ],
      "execution_count": 57,
      "outputs": []
    },
    {
      "cell_type": "code",
      "metadata": {
        "colab": {
          "base_uri": "https://localhost:8080/"
        },
        "id": "tWyN_d_LD_Yn",
        "outputId": "25a9a388-e029-4dbb-a6b6-57079b320496"
      },
      "source": [
        "adv_validation(model, dataloaders)"
      ],
      "execution_count": 58,
      "outputs": [
        {
          "output_type": "stream",
          "text": [
            "Iteration: 1/79, Avg Acc for Adversarial inputs: 2.3438\n",
            "Iteration: 11/79, Avg Acc for Adversarial inputs: 0.9233\n",
            "Iteration: 21/79, Avg Acc for Adversarial inputs: 0.7812\n",
            "Iteration: 31/79, Avg Acc for Adversarial inputs: 0.7560\n",
            "Iteration: 41/79, Avg Acc for Adversarial inputs: 0.9718\n",
            "Iteration: 51/79, Avg Acc for Adversarial inputs: 0.9651\n",
            "Iteration: 61/79, Avg Acc for Adversarial inputs: 0.9221\n",
            "Iteration: 71/79, Avg Acc for Adversarial inputs: 0.9023\n",
            "Total Sample numbers: 10000, Overall Acc for Adversarial inputs: 0.91\n"
          ],
          "name": "stdout"
        }
      ]
    },
    {
      "cell_type": "code",
      "metadata": {
        "id": "6IikOCyiD_f7"
      },
      "source": [
        ""
      ],
      "execution_count": null,
      "outputs": []
    },
    {
      "cell_type": "code",
      "metadata": {
        "id": "CbzCsjLND_n8"
      },
      "source": [
        ""
      ],
      "execution_count": null,
      "outputs": []
    },
    {
      "cell_type": "code",
      "metadata": {
        "id": "4MstWTSGD_ww"
      },
      "source": [
        ""
      ],
      "execution_count": null,
      "outputs": []
    },
    {
      "cell_type": "code",
      "metadata": {
        "id": "76gSSYRqD_2o"
      },
      "source": [
        ""
      ],
      "execution_count": null,
      "outputs": []
    },
    {
      "cell_type": "code",
      "metadata": {
        "id": "ZPVIgpvmD_-8"
      },
      "source": [
        ""
      ],
      "execution_count": null,
      "outputs": []
    },
    {
      "cell_type": "code",
      "metadata": {
        "id": "Yt_t1pVglosu"
      },
      "source": [
        ""
      ],
      "execution_count": null,
      "outputs": []
    },
    {
      "cell_type": "code",
      "metadata": {
        "id": "EHUFy-ENloyQ"
      },
      "source": [
        ""
      ],
      "execution_count": null,
      "outputs": []
    }
  ]
}