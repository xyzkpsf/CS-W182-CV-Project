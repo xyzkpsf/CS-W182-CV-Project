{
  "nbformat": 4,
  "nbformat_minor": 0,
  "metadata": {
    "colab": {
      "name": "CV_Ensemble .ipynb",
      "provenance": [],
      "collapsed_sections": [],
      "mount_file_id": "1pwTxHrUBajGfLjDkCSfwlY2H-NZ9Pqrc",
      "authorship_tag": "ABX9TyOK/Z45iKznmog8rjLXBygJ",
      "include_colab_link": true
    },
    "kernelspec": {
      "name": "python3",
      "display_name": "Python 3"
    },
    "language_info": {
      "name": "python"
    },
    "accelerator": "GPU",
    "widgets": {
      "application/vnd.jupyter.widget-state+json": {
        "a3328a88ed464ee8be624c76f60c3f33": {
          "model_module": "@jupyter-widgets/controls",
          "model_name": "HBoxModel",
          "state": {
            "_view_name": "HBoxView",
            "_dom_classes": [],
            "_model_name": "HBoxModel",
            "_view_module": "@jupyter-widgets/controls",
            "_model_module_version": "1.5.0",
            "_view_count": null,
            "_view_module_version": "1.5.0",
            "box_style": "",
            "layout": "IPY_MODEL_4eac9c47515e4c4eb92b18eabddbe7a8",
            "_model_module": "@jupyter-widgets/controls",
            "children": [
              "IPY_MODEL_a2dacae59cfa4e0caf78f50936853fcc",
              "IPY_MODEL_a7baf89c16c84e99b20745bfe885b33b"
            ]
          }
        },
        "4eac9c47515e4c4eb92b18eabddbe7a8": {
          "model_module": "@jupyter-widgets/base",
          "model_name": "LayoutModel",
          "state": {
            "_view_name": "LayoutView",
            "grid_template_rows": null,
            "right": null,
            "justify_content": null,
            "_view_module": "@jupyter-widgets/base",
            "overflow": null,
            "_model_module_version": "1.2.0",
            "_view_count": null,
            "flex_flow": null,
            "width": null,
            "min_width": null,
            "border": null,
            "align_items": null,
            "bottom": null,
            "_model_module": "@jupyter-widgets/base",
            "top": null,
            "grid_column": null,
            "overflow_y": null,
            "overflow_x": null,
            "grid_auto_flow": null,
            "grid_area": null,
            "grid_template_columns": null,
            "flex": null,
            "_model_name": "LayoutModel",
            "justify_items": null,
            "grid_row": null,
            "max_height": null,
            "align_content": null,
            "visibility": null,
            "align_self": null,
            "height": null,
            "min_height": null,
            "padding": null,
            "grid_auto_rows": null,
            "grid_gap": null,
            "max_width": null,
            "order": null,
            "_view_module_version": "1.2.0",
            "grid_template_areas": null,
            "object_position": null,
            "object_fit": null,
            "grid_auto_columns": null,
            "margin": null,
            "display": null,
            "left": null
          }
        },
        "a2dacae59cfa4e0caf78f50936853fcc": {
          "model_module": "@jupyter-widgets/controls",
          "model_name": "FloatProgressModel",
          "state": {
            "_view_name": "ProgressView",
            "style": "IPY_MODEL_e206ddcd16824fcaa50cac08398e9832",
            "_dom_classes": [],
            "description": "100%",
            "_model_name": "FloatProgressModel",
            "bar_style": "success",
            "max": 102502400,
            "_view_module": "@jupyter-widgets/controls",
            "_model_module_version": "1.5.0",
            "value": 102502400,
            "_view_count": null,
            "_view_module_version": "1.5.0",
            "orientation": "horizontal",
            "min": 0,
            "description_tooltip": null,
            "_model_module": "@jupyter-widgets/controls",
            "layout": "IPY_MODEL_3d063678e5e34b919d1b44c0980a0e22"
          }
        },
        "a7baf89c16c84e99b20745bfe885b33b": {
          "model_module": "@jupyter-widgets/controls",
          "model_name": "HTMLModel",
          "state": {
            "_view_name": "HTMLView",
            "style": "IPY_MODEL_33fe36d05c354bca9304997315529947",
            "_dom_classes": [],
            "description": "",
            "_model_name": "HTMLModel",
            "placeholder": "​",
            "_view_module": "@jupyter-widgets/controls",
            "_model_module_version": "1.5.0",
            "value": " 97.8M/97.8M [20:34&lt;00:00, 83.0kB/s]",
            "_view_count": null,
            "_view_module_version": "1.5.0",
            "description_tooltip": null,
            "_model_module": "@jupyter-widgets/controls",
            "layout": "IPY_MODEL_de02211c8f09416794e3d3fef9deaf17"
          }
        },
        "e206ddcd16824fcaa50cac08398e9832": {
          "model_module": "@jupyter-widgets/controls",
          "model_name": "ProgressStyleModel",
          "state": {
            "_view_name": "StyleView",
            "_model_name": "ProgressStyleModel",
            "description_width": "initial",
            "_view_module": "@jupyter-widgets/base",
            "_model_module_version": "1.5.0",
            "_view_count": null,
            "_view_module_version": "1.2.0",
            "bar_color": null,
            "_model_module": "@jupyter-widgets/controls"
          }
        },
        "3d063678e5e34b919d1b44c0980a0e22": {
          "model_module": "@jupyter-widgets/base",
          "model_name": "LayoutModel",
          "state": {
            "_view_name": "LayoutView",
            "grid_template_rows": null,
            "right": null,
            "justify_content": null,
            "_view_module": "@jupyter-widgets/base",
            "overflow": null,
            "_model_module_version": "1.2.0",
            "_view_count": null,
            "flex_flow": null,
            "width": null,
            "min_width": null,
            "border": null,
            "align_items": null,
            "bottom": null,
            "_model_module": "@jupyter-widgets/base",
            "top": null,
            "grid_column": null,
            "overflow_y": null,
            "overflow_x": null,
            "grid_auto_flow": null,
            "grid_area": null,
            "grid_template_columns": null,
            "flex": null,
            "_model_name": "LayoutModel",
            "justify_items": null,
            "grid_row": null,
            "max_height": null,
            "align_content": null,
            "visibility": null,
            "align_self": null,
            "height": null,
            "min_height": null,
            "padding": null,
            "grid_auto_rows": null,
            "grid_gap": null,
            "max_width": null,
            "order": null,
            "_view_module_version": "1.2.0",
            "grid_template_areas": null,
            "object_position": null,
            "object_fit": null,
            "grid_auto_columns": null,
            "margin": null,
            "display": null,
            "left": null
          }
        },
        "33fe36d05c354bca9304997315529947": {
          "model_module": "@jupyter-widgets/controls",
          "model_name": "DescriptionStyleModel",
          "state": {
            "_view_name": "StyleView",
            "_model_name": "DescriptionStyleModel",
            "description_width": "",
            "_view_module": "@jupyter-widgets/base",
            "_model_module_version": "1.5.0",
            "_view_count": null,
            "_view_module_version": "1.2.0",
            "_model_module": "@jupyter-widgets/controls"
          }
        },
        "de02211c8f09416794e3d3fef9deaf17": {
          "model_module": "@jupyter-widgets/base",
          "model_name": "LayoutModel",
          "state": {
            "_view_name": "LayoutView",
            "grid_template_rows": null,
            "right": null,
            "justify_content": null,
            "_view_module": "@jupyter-widgets/base",
            "overflow": null,
            "_model_module_version": "1.2.0",
            "_view_count": null,
            "flex_flow": null,
            "width": null,
            "min_width": null,
            "border": null,
            "align_items": null,
            "bottom": null,
            "_model_module": "@jupyter-widgets/base",
            "top": null,
            "grid_column": null,
            "overflow_y": null,
            "overflow_x": null,
            "grid_auto_flow": null,
            "grid_area": null,
            "grid_template_columns": null,
            "flex": null,
            "_model_name": "LayoutModel",
            "justify_items": null,
            "grid_row": null,
            "max_height": null,
            "align_content": null,
            "visibility": null,
            "align_self": null,
            "height": null,
            "min_height": null,
            "padding": null,
            "grid_auto_rows": null,
            "grid_gap": null,
            "max_width": null,
            "order": null,
            "_view_module_version": "1.2.0",
            "grid_template_areas": null,
            "object_position": null,
            "object_fit": null,
            "grid_auto_columns": null,
            "margin": null,
            "display": null,
            "left": null
          }
        }
      }
    }
  },
  "cells": [
    {
      "cell_type": "markdown",
      "metadata": {
        "id": "view-in-github",
        "colab_type": "text"
      },
      "source": [
        "<a href=\"https://colab.research.google.com/github/xyzkpsf/CS-W182-CV-Project/blob/main/New_CV_Ensemble_.ipynb\" target=\"_parent\"><img src=\"https://colab.research.google.com/assets/colab-badge.svg\" alt=\"Open In Colab\"/></a>"
      ]
    },
    {
      "cell_type": "code",
      "metadata": {
        "id": "UdTraSe-fLfi"
      },
      "source": [
        "try:\n",
        "    import torchbearer\n",
        "except:\n",
        "    !pip install -q torchbearer\n",
        "    import torchbearer\n",
        "\n",
        "!pip install livelossplot\n",
        "print(torchbearer.__version__)"
      ],
      "execution_count": null,
      "outputs": []
    },
    {
      "cell_type": "code",
      "metadata": {
        "id": "W76R8DyFgAfN"
      },
      "source": [
        "import torch\n",
        "import torch.nn as nn\n",
        "import torch.optim as optim\n",
        "import torch.nn.functional as F\n",
        "import numpy as np\n",
        "import torchvision\n",
        "import pandas as pd\n",
        "from torchvision import datasets, models, transforms\n",
        "from torch.utils.data import Dataset, DataLoader\n",
        "from torch.optim import lr_scheduler\n",
        "from torchvision.io import read_image\n",
        "from skimage import io, transform\n",
        "from PIL import Image\n",
        "import matplotlib.pyplot as plt\n",
        "from livelossplot import PlotLosses\n",
        "import time\n",
        "import copy\n",
        "import os\n",
        "import sys"
      ],
      "execution_count": 2,
      "outputs": []
    },
    {
      "cell_type": "code",
      "metadata": {
        "id": "RQxbsEQRgHGj"
      },
      "source": [
        "!unzip '/content/drive/MyDrive/Spring 2021/CS 182/tiny-imagenet-200.zip'"
      ],
      "execution_count": null,
      "outputs": []
    },
    {
      "cell_type": "code",
      "metadata": {
        "id": "vnJkIyEvJFzg"
      },
      "source": [
        "class CustomImageDataset(Dataset):\n",
        "    def __init__(self, val_label_dir, img_dir, train_path, transform=None, target_transform=None):\n",
        "        super(CustomImageDataset, self).__init__()\n",
        "        self.val_label_file = pd.read_csv(val_label_dir, delimiter = \"\\t\", names=[\"pics\", \"labels\", \"_1\", \"_2\", \"_3\", \"_4\"])\n",
        "        self.img_labels = self.val_label_file[[\"pics\", 'labels']]\n",
        "        self.img_dir = img_dir\n",
        "        self.transform = transform\n",
        "        self.classes, self.class_to_idx = self._find_classes(train_path)\n",
        "\n",
        "    def __len__(self):\n",
        "        return len(self.img_labels)\n",
        "\n",
        "    def _find_classes(self, dir):\n",
        "        \"\"\"\n",
        "        Finds the class folders in a dataset.\n",
        "        Args:\n",
        "            dir (string): Root directory path.\n",
        "        Returns:\n",
        "            tuple: (classes, class_to_idx) where classes are relative to (dir), and class_to_idx is a dictionary.\n",
        "        Ensures:\n",
        "            No class is a subdirectory of another.\n",
        "        \"\"\"\n",
        "        if sys.version_info >= (3, 5):\n",
        "            # Faster and available in Python 3.5 and above\n",
        "            classes = [d.name for d in os.scandir(dir) if d.is_dir()]\n",
        "        else:\n",
        "            classes = [d for d in os.listdir(dir) if os.path.isdir(os.path.join(dir, d))]\n",
        "        classes.sort()\n",
        "        class_to_idx = {classes[i]: i for i in range(len(classes))}\n",
        "        return classes, class_to_idx\n",
        "\n",
        "    def pad(self, img):\n",
        "        padding = np.ones((64, 64, 2))\n",
        "        img = img.reshape((64, 64, 1))\n",
        "        img = np.concatenate((img, padding), axis=2)\n",
        "        return img.astype(np.float32)\n",
        "      \n",
        "    def __getitem__(self, idx):\n",
        "        img_path = os.path.join(self.img_dir, self.img_labels.iloc[idx, 0])\n",
        "        img = Image.open(img_path)\n",
        "        img = copy.deepcopy(np.asarray(img))\n",
        "        # if it has less than 3 channels\n",
        "        if img.shape != (64, 64, 3):\n",
        "            img = self.pad(img)\n",
        "        #print(img.shape)\n",
        "        label = self.img_labels.iloc[idx, 1]\n",
        "        label = self.class_to_idx[label]\n",
        "        if self.transform:\n",
        "            img = self.transform(img)\n",
        "        #sample = {\"image\": img, \"label\": label}\n",
        "        return img, label"
      ],
      "execution_count": 4,
      "outputs": []
    },
    {
      "cell_type": "code",
      "metadata": {
        "id": "12uDWdL4gNlD"
      },
      "source": [
        "data_transforms = {\n",
        "    'train': transforms.Compose([\n",
        "        transforms.ToTensor(),\n",
        "        #transforms.Normalize([0.485, 0.456, 0.406], [0.229, 0.224, 0.225])\n",
        "    ]),\n",
        "    'val': transforms.Compose([\n",
        "        transforms.ToTensor(),\n",
        "        #transforms.Normalize([0.485, 0.456, 0.406], [0.229, 0.224, 0.225])\n",
        "    ]),\n",
        "}\n",
        "\n",
        "data_dir = '/content/tiny-imagenet-200'\n",
        "\n",
        "val_label_dir = '/content/tiny-imagenet-200/val/val_annotations.txt'\n",
        "\n",
        "image_datasets = {}\n",
        "\n",
        "image_datasets['train'] = datasets.ImageFolder(os.path.join(data_dir, 'train'),\n",
        "                                          data_transforms['train'])\n",
        "\n",
        "image_datasets['val'] = CustomImageDataset(val_label_dir, data_dir+'/val/images', \n",
        "                                           os.path.join(data_dir, 'train'),\n",
        "                                           transform=data_transforms['val'])\n",
        "\n",
        "dataloaders = {x: torch.utils.data.DataLoader(image_datasets[x], batch_size=128,\n",
        "                                             shuffle=True, num_workers=2)\n",
        "                                            for x in ['train', 'val']}\n",
        "\n",
        "dataset_sizes = {x: len(image_datasets[x]) for x in ['train', 'val']}\n",
        "\n",
        "device = torch.device(\"cuda:0\" if torch.cuda.is_available() else \"cpu\")"
      ],
      "execution_count": 5,
      "outputs": []
    },
    {
      "cell_type": "code",
      "metadata": {
        "id": "Qespvjx8QCPG"
      },
      "source": [
        "#x, y = next(iter(image_datasets['val']))\n",
        "#print(x, y)"
      ],
      "execution_count": null,
      "outputs": []
    },
    {
      "cell_type": "code",
      "metadata": {
        "id": "llxIgvXAgi2a",
        "colab": {
          "base_uri": "https://localhost:8080/",
          "height": 118,
          "referenced_widgets": [
            "a3328a88ed464ee8be624c76f60c3f33",
            "4eac9c47515e4c4eb92b18eabddbe7a8",
            "a2dacae59cfa4e0caf78f50936853fcc",
            "a7baf89c16c84e99b20745bfe885b33b",
            "e206ddcd16824fcaa50cac08398e9832",
            "3d063678e5e34b919d1b44c0980a0e22",
            "33fe36d05c354bca9304997315529947",
            "de02211c8f09416794e3d3fef9deaf17"
          ]
        },
        "outputId": "a8ac61be-c9e1-4e18-86c9-ab6872e4f397"
      },
      "source": [
        "# No pretrained parameters\n",
        "\n",
        "'''\n",
        "# First model\n",
        "model1 = models.resnet18(pretrained=True)\n",
        "model1.avgpool = nn.AdaptiveAvgPool2d(1)\n",
        "num_ftrs = model1.fc.in_features\n",
        "model1.fc = nn.Linear(num_ftrs, 200)\n",
        "model1.conv1 = nn.Conv2d(3,64, kernel_size=(3,3), stride=(1,1), padding=(1,1))\n",
        "model1.maxpool = nn.Sequential()\n",
        "model1 = model1.to(device)\n",
        "\n",
        "'''\n",
        "# Second model\n",
        "model2 = models.resnet50(pretrained=True)\n",
        "model2.avgpool = nn.AdaptiveAvgPool2d(1)\n",
        "num_ftrs = model2.fc.in_features\n",
        "model2.fc = nn.Linear(num_ftrs, 200)\n",
        "model2.conv1 = nn.Conv2d(3,64, kernel_size=(3,3), stride=(1,1), padding=(1,1))\n",
        "model2.maxpool = nn.Sequential()\n",
        "model2 = model2.to(device)\n",
        "\n",
        "'''\n",
        "# Third model\n",
        "model3 = models.resnet101(pretrained=False)\n",
        "model3.avgpool = nn.AdaptiveAvgPool2d(1)\n",
        "num_ftrs = model3.fc.in_features\n",
        "model3.fc = nn.Linear(num_ftrs, 200)\n",
        "model3.conv1 = nn.Conv2d(3,64, kernel_size=(3,3), stride=(1,1), padding=(1,1))\n",
        "model3.maxpool = nn.Sequential()\n",
        "model3 = model3.to(device)\n",
        "'''\n",
        "\n",
        "#Multi GPU\n",
        "#model = torch.nn.DataParallel(model, device_ids=[0, 1])\n"
      ],
      "execution_count": 17,
      "outputs": [
        {
          "output_type": "stream",
          "text": [
            "Downloading: \"https://download.pytorch.org/models/resnet50-19c8e357.pth\" to /root/.cache/torch/hub/checkpoints/resnet50-19c8e357.pth\n"
          ],
          "name": "stderr"
        },
        {
          "output_type": "display_data",
          "data": {
            "application/vnd.jupyter.widget-view+json": {
              "model_id": "a3328a88ed464ee8be624c76f60c3f33",
              "version_minor": 0,
              "version_major": 2
            },
            "text/plain": [
              "HBox(children=(FloatProgress(value=0.0, max=102502400.0), HTML(value='')))"
            ]
          },
          "metadata": {
            "tags": []
          }
        },
        {
          "output_type": "stream",
          "text": [
            "\n"
          ],
          "name": "stdout"
        },
        {
          "output_type": "execute_result",
          "data": {
            "application/vnd.google.colaboratory.intrinsic+json": {
              "type": "string"
            },
            "text/plain": [
              "'\\n# Third model\\nmodel3 = models.resnet101(pretrained=False)\\nmodel3.avgpool = nn.AdaptiveAvgPool2d(1)\\nnum_ftrs = model3.fc.in_features\\nmodel3.fc = nn.Linear(num_ftrs, 200)\\nmodel3.conv1 = nn.Conv2d(3,64, kernel_size=(3,3), stride=(1,1), padding=(1,1))\\nmodel3.maxpool = nn.Sequential()\\nmodel3 = model3.to(device)\\n'"
            ]
          },
          "metadata": {
            "tags": []
          },
          "execution_count": 17
        }
      ]
    },
    {
      "cell_type": "code",
      "metadata": {
        "id": "6EzHIHuwgtHI"
      },
      "source": [
        "def train_model(model, dataloaders, dataset_sizes, criterion, optimizer, scheduler, num_epochs=30):\n",
        "    device = torch.device(\"cuda:0\" if torch.cuda.is_available() else \"cpu\")\n",
        "    since = time.time()\n",
        "    liveloss = PlotLosses()\n",
        "    best_model_wts = copy.deepcopy(model.state_dict())\n",
        "    best_acc = 0.0\n",
        "\n",
        "    for epoch in range(num_epochs):\n",
        "        print('Epoch {}/{}'.format(epoch+1, num_epochs))\n",
        "        print('-' * 10)\n",
        "\n",
        "        # Each epoch has a training and validation phase\n",
        "        for phase in ['train', 'val']:\n",
        "            if phase == 'train':\n",
        "                scheduler.step()\n",
        "                model.train()  # Set model to training mode\n",
        "            else:\n",
        "                model.eval()   # Set model to evaluate mode\n",
        "\n",
        "            running_loss = 0.0\n",
        "            running_corrects = 0\n",
        "\n",
        "            # Iterate over data.\n",
        "            for i,(inputs, labels) in enumerate(dataloaders[phase]):\n",
        "                inputs = inputs.to(device)\n",
        "                labels = labels.to(device)\n",
        "\n",
        "                # zero the parameter gradients\n",
        "                optimizer.zero_grad()\n",
        "\n",
        "                # forward\n",
        "                # track history if only in train\n",
        "                with torch.set_grad_enabled(phase == 'train'):\n",
        "                    outputs = model(inputs)\n",
        "                    _, preds = torch.max(outputs, 1)\n",
        "                    loss = criterion(outputs, labels)\n",
        "\n",
        "                    # backward + optimize only if in training phase\n",
        "                    if phase == 'train':\n",
        "                        loss.backward()\n",
        "                        optimizer.step()\n",
        "\n",
        "                # statistics\n",
        "                running_loss += loss.item() * inputs.size(0)\n",
        "                running_corrects += torch.sum(preds == labels.data)\n",
        "                print(\"\\rIteration: {}/{}, Loss: {}.\".format(i+1, len(dataloaders[phase]), loss.item() * inputs.size(0)), end=\"\")\n",
        "                sys.stdout.flush()\n",
        "                \n",
        "                \n",
        "            epoch_loss = running_loss / dataset_sizes[phase]\n",
        "            epoch_acc = running_corrects.double() / dataset_sizes[phase]\n",
        "            if phase == 'train':\n",
        "                avg_loss = epoch_loss\n",
        "                t_acc = epoch_acc\n",
        "            else:\n",
        "                val_loss = epoch_loss\n",
        "                val_acc = epoch_acc\n",
        "\n",
        "            # deep copy the model\n",
        "            if phase == 'val' and epoch_acc > best_acc:\n",
        "                best_acc = epoch_acc\n",
        "                best_model_wts = copy.deepcopy(model.state_dict())\n",
        "                \n",
        "        liveloss.update({\n",
        "            'log loss': avg_loss,\n",
        "            'val_log loss': val_loss,\n",
        "            'accuracy': t_acc,\n",
        "            'val_accuracy': val_acc\n",
        "        })\n",
        "                \n",
        "        liveloss.draw()\n",
        "        print('Train Loss: {:.4f} Acc: {:.4f}'.format(avg_loss, t_acc))\n",
        "        print(  'Val Loss: {:.4f} Acc: {:.4f}'.format(val_loss, val_acc))\n",
        "        print('Best Val Accuracy: {}'.format(best_acc))\n",
        "        print()\n",
        "    \n",
        "    time_elapsed = time.time() - since\n",
        "    print('Training complete in {:.0f}m {:.0f}s'.format(\n",
        "        time_elapsed // 60, time_elapsed % 60))\n",
        "    print('Best val Acc: {:4f}'.format(best_acc))\n",
        "\n",
        "    # load best model weights\n",
        "    model.load_state_dict(best_model_wts)\n",
        "    return model"
      ],
      "execution_count": 7,
      "outputs": []
    },
    {
      "cell_type": "code",
      "metadata": {
        "id": "ahRrxIA5GpIh"
      },
      "source": [
        "# Need to train each model first then load into the Ensemble class for validation.\n",
        "# Change the following block for each model"
      ],
      "execution_count": null,
      "outputs": []
    },
    {
      "cell_type": "code",
      "metadata": {
        "id": "2sgtXMMKGHtD"
      },
      "source": [
        "#Loss Function\n",
        "criterion = nn.CrossEntropyLoss()\n",
        "\n",
        "# Observe that all parameters are being optimized\n",
        "optimizer_ft = optim.SGD(model2.parameters(), lr=0.001, momentum=0.9)\n",
        "\n",
        "# Decay LR by a factor of 0.1 every 7 epochs\n",
        "exp_lr_scheduler = lr_scheduler.StepLR(optimizer_ft, step_size=7, gamma=0.1)"
      ],
      "execution_count": 18,
      "outputs": []
    },
    {
      "cell_type": "code",
      "metadata": {
        "id": "GEmHKrGqhGGJ",
        "colab": {
          "base_uri": "https://localhost:8080/",
          "height": 789
        },
        "outputId": "a42cf8d1-c552-45e9-ea71-b6700593da0b"
      },
      "source": [
        "trainning_model = model2\n",
        "model = train_model(trainning_model, dataloaders, dataset_sizes, criterion, optimizer_ft, exp_lr_scheduler,\n",
        "                       num_epochs=10)"
      ],
      "execution_count": 19,
      "outputs": [
        {
          "output_type": "display_data",
          "data": {
            "image/png": "[encoded data removed]",
            "text/plain": [
              "<Figure size 864x576 with 2 Axes>"
            ]
          },
          "metadata": {
            "tags": [],
            "needs_background": "light"
          }
        },
        {
          "output_type": "stream",
          "text": [
            "accuracy\n",
            "\ttraining         \t (min:    0.115, max:    0.888, cur:    0.888)\n",
            "\tvalidation       \t (min:    0.247, max:    0.738, cur:    0.738)\n",
            "log loss\n",
            "\ttraining         \t (min:    0.522, max:    4.520, cur:    0.522)\n",
            "\tvalidation       \t (min:   17.503, max:   25.629, cur:   19.062)\n",
            "Train Loss: 0.5222 Acc: 0.8881\n",
            "Val Loss: 19.0619 Acc: 0.7377\n",
            "Best Val Accuracy: 0.7377\n",
            "\n",
            "Training complete in 201m 20s\n",
            "Best val Acc: 0.737700\n"
          ],
          "name": "stdout"
        }
      ]
    },
    {
      "cell_type": "code",
      "metadata": {
        "id": "ebHamf3rWMU3"
      },
      "source": [
        "# DON\"T SAVE FOR DEBUG\n",
        "# DON\"T SAVE FOR DEBUG\n",
        "# DON\"T SAVE FOR DEBUG\n",
        "# DON\"T SAVE FOR DEBUG\n",
        "# DON\"T SAVE FOR DEBUG\n",
        "# DON\"T SAVE FOR DEBUG\n",
        "# DON\"T SAVE FOR DEBUG\n",
        "# DON\"T SAVE FOR DEBUG\n",
        "# DON\"T SAVE FOR DEBUG"
      ],
      "execution_count": null,
      "outputs": []
    },
    {
      "cell_type": "code",
      "metadata": {
        "id": "mxiI65YWleWM"
      },
      "source": [
        "def validation(model, dataloaders):\n",
        "    device = torch.device(\"cuda:0\" if torch.cuda.is_available() else \"cpu\")\n",
        "    correct = 0\n",
        "    total = 0\n",
        "    with torch.no_grad():\n",
        "        for i,(inputs, labels) in enumerate(dataloaders['val']):\n",
        "            inputs = inputs.to(device)\n",
        "            labels = labels.to(device)\n",
        "            outputs = model(inputs)\n",
        "            _, preds = torch.max(outputs, 1)\n",
        "            total += labels.size(0)\n",
        "            correct += (preds == labels).sum().item()\n",
        "            if i % 10 == 0:\n",
        "                print('\\rIteration: {}/{}, Avg Acc: {:.4f}'.format(i+1, len(dataloaders['val']), (100 * correct / total)))\n",
        "    print(\"Total Sample numbers: {}, Overall Acc: {:.2f}\".format(total, (100 * correct / total)))"
      ],
      "execution_count": 11,
      "outputs": []
    },
    {
      "cell_type": "code",
      "metadata": {
        "colab": {
          "base_uri": "https://localhost:8080/"
        },
        "id": "TZT0QM8TlnEW",
        "outputId": "ebd58699-69b8-4996-faad-5bcf0b1fe7d7"
      },
      "source": [
        "\n",
        "validation(model, dataloaders)"
      ],
      "execution_count": 12,
      "outputs": [
        {
          "output_type": "stream",
          "text": [
            "Iteration: 1/79, Avg Acc: 53.9062\n",
            "Iteration: 11/79, Avg Acc: 53.3381\n",
            "Iteration: 21/79, Avg Acc: 54.6131\n",
            "Iteration: 31/79, Avg Acc: 55.1411\n",
            "Iteration: 41/79, Avg Acc: 54.9733\n",
            "Iteration: 51/79, Avg Acc: 54.6722\n",
            "Iteration: 61/79, Avg Acc: 54.5210\n",
            "Iteration: 71/79, Avg Acc: 54.7755\n",
            "Total Sample numbers: 10000, Overall Acc: 54.86\n"
          ],
          "name": "stdout"
        }
      ]
    },
    {
      "cell_type": "code",
      "metadata": {
        "id": "L1NZ5G6XloAK"
      },
      "source": [
        "model_save_path = \"/content/drive/MyDrive/CV Project Model State Dict/Resnet50_WholeModel_val_7377.pt\"\n",
        "torch.save(model, model_save_path)"
      ],
      "execution_count": 20,
      "outputs": []
    },
    {
      "cell_type": "code",
      "metadata": {
        "id": "3MRKdsgNloO2"
      },
      "source": [
        "class MyEnsemble(nn.Module):\n",
        "    def __init__(self, model1, model2, model3):\n",
        "          super(MyEnsemble,self).__init__()\n",
        "          self.model1 = model1 \n",
        "          self.model2 = model2 \n",
        "          self.model3 = model3  \n",
        "          self.softmax = nn.Softmax(dim=1)\n",
        "\n",
        "\n",
        "    def forward(self, x):\n",
        "        x1 = self.model1(x.clone())\n",
        "        x1 = self.softmax(x1)\n",
        "\n",
        "        x2 = self.model2(x.clone())\n",
        "        x2 = self.softmax(x2)\n",
        "\n",
        "        x3 = self.model3(x)\n",
        "        x3 = self.softmax(x3)\n",
        "        \n",
        "        x = x1 + x2 + x3\n",
        "\n",
        "        return x"
      ],
      "execution_count": 14,
      "outputs": []
    },
    {
      "cell_type": "code",
      "metadata": {
        "id": "H7OcmpmaloWy"
      },
      "source": [
        "Emodel = MyEnsemble(model_18, model_50, model_50)\n",
        "Emodel = Emodel.to(device)"
      ],
      "execution_count": 30,
      "outputs": []
    },
    {
      "cell_type": "code",
      "metadata": {
        "colab": {
          "base_uri": "https://localhost:8080/"
        },
        "id": "O8tfqew7loet",
        "outputId": "4b486705-e0ce-457a-eded-e6b9fbc2bbc1"
      },
      "source": [
        "validation(Emodel, dataloaders)"
      ],
      "execution_count": 31,
      "outputs": [
        {
          "output_type": "stream",
          "text": [
            "Iteration: 1/79, Avg Acc: 72.6562\n",
            "Iteration: 11/79, Avg Acc: 74.0057\n",
            "Iteration: 21/79, Avg Acc: 73.9211\n",
            "Iteration: 31/79, Avg Acc: 73.6391\n",
            "Iteration: 41/79, Avg Acc: 73.7233\n",
            "Iteration: 51/79, Avg Acc: 73.5294\n",
            "Iteration: 61/79, Avg Acc: 73.5656\n",
            "Iteration: 71/79, Avg Acc: 73.3385\n",
            "Total Sample numbers: 10000, Overall Acc: 73.46\n"
          ],
          "name": "stdout"
        }
      ]
    },
    {
      "cell_type": "code",
      "metadata": {
        "id": "4ZjpRV_8lomE"
      },
      "source": [
        "model_50 = model\n",
        "model_18 = torch.load(\"/content/drive/MyDrive/CV Project Model State Dict/Resnet18_WholeModel_val_54.pt\")"
      ],
      "execution_count": 23,
      "outputs": []
    },
    {
      "cell_type": "code",
      "metadata": {
        "id": "Yt_t1pVglosu"
      },
      "source": [
        ""
      ],
      "execution_count": null,
      "outputs": []
    },
    {
      "cell_type": "code",
      "metadata": {
        "id": "EHUFy-ENloyQ"
      },
      "source": [
        ""
      ],
      "execution_count": null,
      "outputs": []
    },
    {
      "cell_type": "code",
      "metadata": {
        "id": "FcN3IbaPhJeT"
      },
      "source": [
        "# Don't REPLACE the old one.\n",
        "# Remeber to change the temp.pt each time.\n",
        "model_save_path = \"/content/drive/MyDrive/CV Project Model State Dict/temp.pt\"\n",
        "torch.save(model.state_dict(), model_save_path)"
      ],
      "execution_count": null,
      "outputs": []
    },
    {
      "cell_type": "code",
      "metadata": {
        "id": "JuyldEw6WNkX"
      },
      "source": [
        "class MyEnsemble(nn.Module):\n",
        "    def __init__(self, model1, model2, model3):\n",
        "          super(MyEnsemble,self).__init__()\n",
        "          self.model1 = model1 \n",
        "          self.model2 = model2 \n",
        "          self.model3 = model3  \n",
        "\n",
        "          self.model1.fc = nn.Identity()\n",
        "          self.model2.fc = nn.Identity()\n",
        "          self.model3.fc = nn.Identity()\n",
        "\n",
        "          # Dimension according to the models' last layer\n",
        "          self.classifier = nn.Linear(512+2048+2048, 200)\n",
        "\n",
        "    def forward(self, x):\n",
        "        x1 = self.model1(x.clone())\n",
        "        x1 = x1.view(x1.size(0), -1)\n",
        "        \n",
        "        x2 = self.model2(x)\n",
        "        x2 = x2.view(x2.size(0), -1)\n",
        "        \n",
        "        x3 = self.model3(x)\n",
        "        x3 = x3.view(x3.size(0), -1)\n",
        "\n",
        "        x = torch.cat((x1, x2, x3), dim=1)\n",
        "        x = self.classifier(F.relu(x))\n",
        "\n",
        "        return x"
      ],
      "execution_count": null,
      "outputs": []
    },
    {
      "cell_type": "code",
      "metadata": {
        "id": "YlU_BeNOZjhj"
      },
      "source": [
        "def validation(model, dataloaders, criterion):\n",
        "    device = torch.device(\"cuda:0\" if torch.cuda.is_available() else \"cpu\")\n",
        "    model.eval()\n",
        "    running_loss = 0.0\n",
        "    running_corrects = 0\n",
        "    total_samples = 0\n",
        "\n",
        "    # Iterate over data.\n",
        "    for i,(inputs, labels) in enumerate(dataloaders['val']):\n",
        "        inputs = inputs.to(device)\n",
        "        labels = labels.to(device)\n",
        "        outputs = model(inputs)\n",
        "        _, preds = torch.max(outputs, 1)\n",
        "        #loss = criterion(outputs, labels)\n",
        "\n",
        "        #running_loss += loss.item() * inputs.size(0)\n",
        "        running_corrects += torch.sum(preds == labels.data)\n",
        "        total_samples += len(labels)\n",
        "        if i % 10 == 0:\n",
        "            print(  '\\rIteration: {}/{}, Avg Acc: {:.4f}'.format(i+1, len(dataloaders['val']),  running_corrects/(total_samples)))\n",
        "      \n",
        "    #val_loss = running_loss / len(dataloaders['val'])\n",
        "    val_acc = running_corrects.double() / len(dataloaders['val'])\n",
        "    print(  'Fianl Acc: {:.4f}'.format(val_acc))"
      ],
      "execution_count": null,
      "outputs": []
    },
    {
      "cell_type": "code",
      "metadata": {
        "id": "6agcG7qPXgSU"
      },
      "source": [
        "\n",
        "PATH1 = \"/content/drive/MyDrive/CV Project Model State Dict/ResNet18 10-Epoch.pt\"\n",
        "model1.load_state_dict(torch.load(PATH1))\n",
        "for param in model1.parameters():\n",
        "    param.requires_grad_(False)\n",
        "\n",
        "\n",
        "PATH2 = \"/content/drive/MyDrive/CV Project Model State Dict/ResNet50 5-Epoch.pt\"\n",
        "model2.load_state_dict(torch.load(PATH2))\n",
        "for param in model2.parameters():\n",
        "    param.requires_grad_(False)\n",
        "\n",
        "PATH3 = \"/content/drive/MyDrive/CV Project Model State Dict/ResNet101.pt\"\n",
        "model3.load_state_dict(torch.load(PATH3))\n",
        "for param in model3.parameters():\n",
        "    param.requires_grad_(False)\n",
        "\n"
      ],
      "execution_count": null,
      "outputs": []
    },
    {
      "cell_type": "code",
      "metadata": {
        "id": "3oi3AgmYNgx-"
      },
      "source": [
        "\n",
        "# Only finish training model1 so far\n",
        "model = MyEnsemble(model1, model2, model3)\n",
        "model = model.to(device)\n",
        "#validation(model, dataloaders, nn.CrossEntropyLoss())"
      ],
      "execution_count": null,
      "outputs": []
    },
    {
      "cell_type": "code",
      "metadata": {
        "id": "5nzyfP0HcIAE"
      },
      "source": [
        "criterion = nn.CrossEntropyLoss()\n",
        "optimizer = torch.optim.SGD(model.parameters(),   lr=0.00001)\n",
        "scheduler = lr_scheduler.StepLR(optimizer, step_size=7, gamma=0.1)"
      ],
      "execution_count": null,
      "outputs": []
    },
    {
      "cell_type": "code",
      "metadata": {
        "colab": {
          "base_uri": "https://localhost:8080/",
          "height": 801
        },
        "id": "t93JBGFcciEE",
        "outputId": "1ed9e3ca-37f4-4fae-b99e-4f615c2487c1"
      },
      "source": [
        "trainning_model = model\n",
        "model = train_model(trainning_model, dataloaders, dataset_sizes, criterion, optimizer, scheduler,\n",
        "                       num_epochs=15)"
      ],
      "execution_count": null,
      "outputs": [
        {
          "output_type": "display_data",
          "data": {
            "image/png": "[encoded data removed]",
            "text/plain": [
              "<Figure size 864x576 with 2 Axes>"
            ]
          },
          "metadata": {
            "tags": [],
            "needs_background": "light"
          }
        },
        {
          "output_type": "stream",
          "text": [
            "accuracy\n",
            "\ttraining         \t (min:    0.022, max:    0.117, cur:    0.117)\n",
            "\tvalidation       \t (min:    0.022, max:    0.109, cur:    0.109)\n",
            "log loss\n",
            "\ttraining         \t (min:    4.855, max:    5.160, cur:    4.855)\n",
            "\tvalidation       \t (min:    7.053, max:    7.761, cur:    7.120)\n",
            "Train Loss: 4.8555 Acc: 0.1171\n",
            "Val Loss: 7.1197 Acc: 0.1087\n",
            "Best Val Accuracy: 0.1087\n",
            "\n",
            "Epoch 13/15\n",
            "----------\n",
            "Iteration: 770/1563, Loss: 313.943603515625."
          ],
          "name": "stdout"
        }
      ]
    },
    {
      "cell_type": "code",
      "metadata": {
        "id": "F-5R4BtK8KOQ"
      },
      "source": [
        "validation(model, dataloaders, nn.CrossEntropyLoss())"
      ],
      "execution_count": null,
      "outputs": []
    }
  ]
}